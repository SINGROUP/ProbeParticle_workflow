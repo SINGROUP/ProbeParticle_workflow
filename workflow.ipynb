{
 "cells": [
  {
   "cell_type": "code",
   "execution_count": 3,
   "metadata": {},
   "outputs": [],
   "source": [
    "import os\n",
    "from runner import RunnerData, SlurmRunner\n",
    "from runner.utils import submit\n",
    "from ase import Atoms, db\n",
    "from ase.io import read\n",
    "import numpy as np\n",
    "import copy\n",
    "from matplotlib import pyplot as plt\n",
    "import time\n",
    "from ipywidgets import interact"
   ]
  },
  {
   "cell_type": "code",
   "execution_count": 3,
   "metadata": {},
   "outputs": [],
   "source": [
    "forms = []\n",
    "for i in os.listdir('data'):\n",
    "    if i.endswith('LOCPOT'):\n",
    "        forms.append('.'.join(i.split('.')[:-1]))\n",
    "forms.sort()"
   ]
  },
  {
   "cell_type": "code",
   "execution_count": 4,
   "metadata": {},
   "outputs": [
    {
     "name": "stdout",
     "output_type": "stream",
     "text": [
      "1 Adam_1x1_O-C-Ca_dpp 45.0\n",
      "2 Adam_1x1_dpp 45.0\n",
      "3 Adam_2x1_O-C-Ca1.1_dpp 45.0\n",
      "4 Adam_2x1_O-C-Ca1.2_dpp 45.0\n",
      "5 Adam_2x1_O-C-Ca1_dpp 45.0\n",
      "6 Adam_2x1_O-C-Ca2_dpp 45.0\n",
      "7 Adam_2x1_O-C-Ca3_dpp 45.0\n",
      "8 Adam_2x1_O-C-Ca4_dpp 45.0\n",
      "9 Adam_2x1_dpp 45.0\n",
      "10 Adam_CO_Ca1_Tilt1_pg_dpp 45.0\n",
      "11 Adam_CO_Ca1_Tilt2_pg_dpp 45.0\n",
      "12 Adam_CO_Ca1_pg_dpp 45.0\n",
      "13 Adam_CO_Ca2_pg_dpp 45.0\n",
      "14 Adam_CO_Ca3_pg_dpp 45.0\n",
      "15 Adam_CO_Ca4_pg_dpp 45.0\n",
      "16 Adam_conf10_dpp 45.0\n",
      "17 Adam_conf11_dpp 45.0\n",
      "18 Adam_conf12_dpp 25.0\n",
      "19 Adam_conf13_dpp 25.0\n",
      "20 Adam_conf1_dpp 25.0\n",
      "21 Adam_conf2_dpp 25.0\n",
      "22 Adam_conf3_dpp 25.0\n",
      "23 Adam_conf4_dpp 25.0\n",
      "24 Adam_conf5_dpp 45.0\n",
      "25 Adam_conf6_dpp 45.0\n",
      "26 Adam_conf7_dpp 45.0\n",
      "27 Adam_conf8_dpp 45.0\n",
      "28 Adam_conf9_dpp 45.0\n",
      "29 Adam_high_tolerance_dpp 45.0\n",
      "30 Adam_hse_dpp 25.0\n"
     ]
    }
   ],
   "source": [
    "for i, ff in enumerate(forms, start=1):\n",
    "    with open(f'data/{ff}.LOCPOT', 'r') as fio:\n",
    "        print(i, ff, float([fio.readline() for _ in range(5)][-1].split()[-1]))"
   ]
  },
  {
   "cell_type": "code",
   "execution_count": 4,
   "metadata": {},
   "outputs": [],
   "source": [
    "fdb = db.connect('database.db')\n",
    "if 'database.db' not in os.listdir():\n",
    "    fdb.metadata = {'default_columns': ['id', 'user', 'formula', 'status']}"
   ]
  },
  {
   "cell_type": "markdown",
   "metadata": {},
   "source": [
    "# Runner"
   ]
  },
  {
   "cell_type": "code",
   "execution_count": 5,
   "metadata": {},
   "outputs": [],
   "source": [
    "# runner\n",
    "# runner\n",
    "pre_runner_data = RunnerData()\n",
    "pre_runner_data.append_tasks('shell', 'module load anaconda')\n",
    "pre_runner_data.append_tasks('shell', 'module load gcc')\n",
    "runner = SlurmRunner('PPM',\n",
    "                     pre_runner_data=pre_runner_data,\n",
    "                     cycle_time=900,\n",
    "                     max_jobs=50)\n",
    "runner.to_database()"
   ]
  },
  {
   "cell_type": "markdown",
   "metadata": {},
   "source": [
    "# RunnerData"
   ]
  },
  {
   "cell_type": "code",
   "execution_count": 6,
   "metadata": {},
   "outputs": [],
   "source": [
    "params = {'ChargeCuUp': -0.0669933,\n",
    "          'ChargeCuDown': -0.0627402,\n",
    "          'Ccharge': 0.212718,\n",
    "          'Ocharge': -0.11767,\n",
    "          'Cklat': 0.0925,\n",
    "          'Oklat': 0.0908,\n",
    "          'CuUpshift': 2.2422001068,\n",
    "          'rC0': 1.85,\n",
    "          'rO0': 1.15,\n",
    "          'rOx': 0,\n",
    "          'rOy': 0,\n",
    "          'sigma': 0.71,\n",
    "          'Ckrad': 20,\n",
    "          'Okrad': 20,\n",
    "          'Amp': 7,\n",
    "          'gridz': 45\n",
    "         }"
   ]
  },
  {
   "cell_type": "code",
   "execution_count": 7,
   "metadata": {},
   "outputs": [],
   "source": [
    "runner_data = RunnerData('get_ppm_data')\n",
    "runner_data.scheduler_options = {'-n': 1,\n",
    "                                 '--time': '0-00:30:00',\n",
    "                                 '--mem-per-cpu': 12000}\n",
    "# runner_data.parents = [1]\n",
    "runner_data.add_file('get_data.py')\n",
    "runner_data.add_file('gen_params.py')\n",
    "runner_data.add_file('run.sh', 'run_PPM.sh')\n",
    "runner_data.append_tasks('python', 'gen_params.py', copy.deepcopy(params))\n",
    "runner_data.append_tasks('shell', 'chmod +x prepare.sh')\n",
    "runner_data.append_tasks('shell', 'chmod +x run_PPM.sh')\n",
    "runner_data.append_tasks('shell', './prepare.sh')\n",
    "runner_data.append_tasks('shell', './run_PPM.sh')\n",
    "runner_data.append_tasks('python', 'get_data.py')\n",
    "runner_data.append_tasks('shell', 'if [ -d PPM-complex_tip ]; then rm -rf PPM-complex_tip; fi')\n",
    "runner_data.append_tasks('shell', 'if [ -d PPM-OpenCL ]; then rm -rf PPM-OpenCL; fi')\n",
    "runner_data.keep_run = True"
   ]
  },
  {
   "cell_type": "code",
   "execution_count": 8,
   "metadata": {},
   "outputs": [],
   "source": [
    "for ff in forms:\n",
    "    if fdb.count(label=ff) == 0:\n",
    "        with open(f'data/{ff}.LOCPOT', 'r') as fio:\n",
    "            z = float([fio.readline() for _ in range(5)][-1].split()[-1])\n",
    "        if z < 30:\n",
    "            runner_data.tasks[0][2]['Amp'] = 3.2\n",
    "            runner_data.data['tasks'][0][2]['gridz'] = 25.0\n",
    "        else:\n",
    "            runner_data.tasks[0][2]['Amp'] = 7\n",
    "            runner_data.data['tasks'][0][2]['gridz'] = 45.0\n",
    "        atoms = read(f'data/{ff}.POSCAR', format='vasp')\n",
    "        id_ = fdb.write(atoms, status='submit', runner='slurm:PPM', label=ff)\n",
    "        runner_data.to_db('database.db', id_)"
   ]
  },
  {
   "cell_type": "code",
   "execution_count": 29,
   "metadata": {},
   "outputs": [],
   "source": [
    "submit(1, fdb, 'slurm:PPM')"
   ]
  },
  {
   "cell_type": "markdown",
   "metadata": {},
   "source": [
    "# test"
   ]
  },
  {
   "cell_type": "code",
   "execution_count": 44,
   "metadata": {},
   "outputs": [],
   "source": [
    "def main(filerec, index, voxl_size, axis, x_min, y_min,\n",
    "         x_max, y_max, units, filename=None, _rotate=False):\n",
    "    \"\"\"\n",
    "    Parameters:\n",
    "    filerec: LabCore file record, containing 3D data\n",
    "    index: index at which slice is made\n",
    "    voxl_size: size of voxel in units\n",
    "    axis: axis along which slice is made\n",
    "    x_min: lower range of index in x direction\n",
    "    y_min: lower range of index in y direction\n",
    "    x_max: upper range of index in x direction\n",
    "    y_max: upper range of index in y direction\n",
    "    units: the units of voxl size\n",
    "    filename: the png filename to store\n",
    "    _rotate: rotate the data 180 to match exp directions\n",
    "    \"\"\"\n",
    "    from matplotlib import pyplot as plt\n",
    "    import numpy as np\n",
    "    \n",
    "    # data sanitisation\n",
    "    index = int(index)\n",
    "    voxl_size = list(map(float, voxl_size))\n",
    "    if len(voxl_size) == 1:\n",
    "        voxl_size *= 3\n",
    "    axis = int(axis)\n",
    "    x_min = int(x_min)\n",
    "    y_min = int(y_min)\n",
    "    \n",
    "    if x_max == 'None':\n",
    "        x_max = None\n",
    "    elif x_max is not None:\n",
    "        x_max = int(x_max)\n",
    "    \n",
    "    if y_max == 'None':\n",
    "        y_max = None\n",
    "    elif y_max is not None:\n",
    "        y_max = int(y_max)\n",
    "    \n",
    "    # data = filerec['data']\n",
    "    data = np.load(filerec)\n",
    "    if _rotate:\n",
    "        data = np.rot90(data, 2)\n",
    "    if filename is None:\n",
    "        filename = '.'.join(filerec.split('.')[:-1])\n",
    "    a = tuple([slice(None) if i != axis else index for i in range(3)])\n",
    "    img = data[a]\n",
    "    a = tuple([slice(x_min, x_max), slice(y_min, y_max)])\n",
    "    img = img[a]\n",
    "\n",
    "    plt.imshow(img.T,\n",
    "           #interpolation=None,\n",
    "           origin='lower',\n",
    "           cmap=plt.cm.Greys_r\n",
    "          )\n",
    "    ind = [1, 0, 0][axis]\n",
    "    x = np.arange(0, img.shape[0] * voxl_size[ind], voxl_size[ind])\n",
    "    nx = x.shape[0]\n",
    "    n_labels = 5\n",
    "    step_x = int(nx / (n_labels - 1))\n",
    "    x_positions = np.arange(0 , nx, step_x)\n",
    "    x_labels = x[::step_x]\n",
    "    plt.xticks(x_positions, [f\"{i:.2f}\" for i in x_labels])\n",
    "    plt.xlabel(f\"{['Y', 'X', 'X'][axis]} {units}\")\n",
    "    \n",
    "    ind = [2, 2, 1][axis]\n",
    "    x = np.arange(0, img.shape[1] * voxl_size[ind], voxl_size[ind])\n",
    "    nx = x.shape[0]\n",
    "    n_labels = 5\n",
    "    step_x = int(nx / (n_labels - 1))\n",
    "    x_positions = np.arange(0 , nx, step_x)\n",
    "    x_labels = x[::step_x]\n",
    "    plt.yticks(x_positions, [f\"{i:.2f}\" for i in x_labels])\n",
    "    plt.ylabel(f\"{['Z', 'Z', 'Y'][axis]} {units}\")\n",
    "    \n",
    "    plt.title(f\"{['X', 'Y', 'Z'][axis]} at {index * voxl_size[axis]:.2f}{units}\")\n",
    "    if filename != 'dummy.png':\n",
    "        plt.savefig(filename)"
   ]
  },
  {
   "cell_type": "code",
   "execution_count": 51,
   "metadata": {},
   "outputs": [],
   "source": []
  },
  {
   "cell_type": "code",
   "execution_count": 60,
   "metadata": {},
   "outputs": [
    {
     "data": {
      "application/vnd.jupyter.widget-view+json": {
       "model_id": "1cee75f9cd7b4426b622051f07e53a8f",
       "version_major": 2,
       "version_minor": 0
      },
      "text/plain": [
       "interactive(children=(IntSlider(value=15, description='i', max=30, min=1), IntSlider(value=52, description='z'…"
      ]
     },
     "metadata": {},
     "output_type": "display_data"
    }
   ],
   "source": [
    "@interact(i=(1, 30), z=(40, 65))\n",
    "def interactive_xy(i, z):\n",
    "    row = fdb.get(i)\n",
    "    np.save('test.npy', row.data['box'])\n",
    "    print(row.label, row.data['runner']['tasks'][0][2]['Amp'])\n",
    "    main('test.npy', z, [0.1], 2, 0, 0, None, None, 'A',\n",
    "     'dummy.png', _rotate=True)"
   ]
  },
  {
   "cell_type": "code",
   "execution_count": 61,
   "metadata": {},
   "outputs": [],
   "source": [
    "row = fdb.get(15)"
   ]
  },
  {
   "cell_type": "code",
   "execution_count": 63,
   "metadata": {},
   "outputs": [],
   "source": [
    "runnerdata_test = RunnerData.from_db(fdb, 15)"
   ]
  },
  {
   "cell_type": "code",
   "execution_count": 67,
   "metadata": {},
   "outputs": [],
   "source": [
    "runnerdata_test.add_file('gen_params.py')"
   ]
  },
  {
   "cell_type": "code",
   "execution_count": 70,
   "metadata": {},
   "outputs": [
    {
     "name": "stdout",
     "output_type": "stream",
     "text": [
      "10\n",
      "11\n",
      "12\n",
      "13\n",
      "14\n",
      "15\n",
      "18\n",
      "19\n",
      "20\n",
      "21\n",
      "22\n",
      "23\n",
      "30\n"
     ]
    }
   ],
   "source": [
    "for i in range(1, len(fdb)+1):\n",
    "    runnerdata_test = RunnerData.from_db(fdb, i)\n",
    "    if runnerdata_test.data['tasks'][0][2]['Amp'] < 5:\n",
    "        print(i)\n",
    "        runnerdata_test.data['tasks'][0][2]['gridz'] = 25.0\n",
    "        runnerdata_test.add_file('gen_params.py')\n",
    "        runnerdata_test.to_db(fdb, i)\n",
    "        submit(i, fdb, 'slurm:PPM')"
   ]
  },
  {
   "cell_type": "code",
   "execution_count": null,
   "metadata": {},
   "outputs": [],
   "source": []
  }
 ],
 "metadata": {
  "kernelspec": {
   "display_name": "Python 3 (ipykernel)",
   "language": "python",
   "name": "python3"
  },
  "language_info": {
   "codemirror_mode": {
    "name": "ipython",
    "version": 3
   },
   "file_extension": ".py",
   "mimetype": "text/x-python",
   "name": "python",
   "nbconvert_exporter": "python",
   "pygments_lexer": "ipython3",
   "version": "3.10.12"
  }
 },
 "nbformat": 4,
 "nbformat_minor": 4
}

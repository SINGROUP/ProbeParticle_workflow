{
 "cells": [
  {
   "cell_type": "code",
   "execution_count": null,
   "metadata": {},
   "outputs": [],
   "source": [
    "import os\n",
    "from runner import RunnerData, SlurmRunner, TerminalRunner\n",
    "from runner.utils import submit\n",
    "from ase import Atoms, db\n",
    "from ase.io import read, write\n",
    "import numpy as np\n",
    "import copy\n",
    "from matplotlib import pyplot as plt\n",
    "import time"
   ]
  },
  {
   "cell_type": "code",
   "execution_count": null,
   "metadata": {},
   "outputs": [],
   "source": [
    "forms = []\n",
    "for i in os.listdir('data'):\n",
    "    if i.endswith('LOCPOT'):\n",
    "        forms.append('.'.join(i.split('.')[:-1]))\n",
    "forms.sort()"
   ]
  },
  {
   "cell_type": "code",
   "execution_count": null,
   "metadata": {},
   "outputs": [],
   "source": [
    "for i, ff in enumerate(forms, start=1):\n",
    "    with open(f'data/{ff}.LOCPOT', 'r') as fio:\n",
    "        print(i, ff, float([fio.readline() for _ in range(5)][-1].split()[-1]))"
   ]
  },
  {
   "cell_type": "code",
   "execution_count": null,
   "metadata": {},
   "outputs": [],
   "source": [
    "fdb = db.connect('database.db')\n",
    "if 'database.db' not in os.listdir():\n",
    "    fdb.metadata = {'default_columns': ['id', 'user', 'formula', 'status']}"
   ]
  },
  {
   "cell_type": "markdown",
   "metadata": {},
   "source": [
    "# Runner"
   ]
  },
  {
   "cell_type": "code",
   "execution_count": null,
   "metadata": {},
   "outputs": [],
   "source": [
    "# runner\n",
    "\n",
    "# Runner for slurm workflow manager\n",
    "pre_runner_data = RunnerData()\n",
    "pre_runner_data.append_tasks('shell', 'module load anaconda')\n",
    "pre_runner_data.append_tasks('shell', 'module load gcc')\n",
    "runner = SlurmRunner('PPM',\n",
    "                     pre_runner_data=pre_runner_data,\n",
    "                     cycle_time=900,\n",
    "                     max_jobs=50)\n",
    "runner.to_database()\n",
    "\n",
    "\"\"\"\n",
    "# Runner for terminal\n",
    "runner = TerminalRunner(\"PPM\",\n",
    "                        cycle_time=900,\n",
    "                        max_jobs=1\n",
    "                       )\n",
    "runner.to_database()\n",
    "\"\"\""
   ]
  },
  {
   "cell_type": "markdown",
   "metadata": {},
   "source": [
    "# RunnerData"
   ]
  },
  {
   "cell_type": "code",
   "execution_count": null,
   "metadata": {},
   "outputs": [],
   "source": [
    "params = {'ChargeCuUp': -0.0669933,\n",
    "          'ChargeCuDown': -0.0627402,\n",
    "          'Ccharge': 0.212718,\n",
    "          'Ocharge': -0.11767,\n",
    "          'Cklat': 0.0925,\n",
    "          'Oklat': 0.0908,\n",
    "          'CuUpshift': 2.2422001068,\n",
    "          'rC0': 1.85,\n",
    "          'rO0': 1.15,\n",
    "          'rOx': 0,\n",
    "          'rOy': 0,\n",
    "          'sigma': 0.71,\n",
    "          'Ckrad': 20,\n",
    "          'Okrad': 20,\n",
    "          'Amp': 7,\n",
    "          'z_top_layer': 8.5,           # Z to remove atoms so only top layer atoms are added to input_plot.xyz and used for Pauli fitting in OpenCL branch\n",
    "          'scan_xy_buffer': 2           # xy buffer in A to extend the scanning\n",
    "         }"
   ]
  },
  {
   "cell_type": "code",
   "execution_count": null,
   "metadata": {},
   "outputs": [],
   "source": [
    "runner_data = RunnerData('get_ppm_data')\n",
    "runner_data.scheduler_options = {'-n': 1,\n",
    "                                 '--time': '0-00:30:00',\n",
    "                                 '--mem-per-cpu': 12000}\n",
    "# runner_data.parents = [1]\n",
    "runner_data.add_file('get_data.py')\n",
    "runner_data.add_file('gen_params.py')\n",
    "runner_data.append_tasks('python', 'gen_params.py', copy.deepcopy(params))\n",
    "runner_data.append_tasks('shell', 'chmod +x prepare.sh')\n",
    "runner_data.append_tasks('shell', 'chmod +x run_PPM.sh')\n",
    "runner_data.append_tasks('shell', './prepare.sh')\n",
    "runner_data.append_tasks('shell', './run_PPM.sh')\n",
    "runner_data.append_tasks('python', 'get_data.py')\n",
    "runner_data.append_tasks('shell', 'if [ -d PPM-complex_tip ]; then rm -rf PPM-complex_tip; fi')\n",
    "runner_data.append_tasks('shell', 'if [ -d PPM-OpenCL ]; then rm -rf PPM-OpenCL; fi')\n",
    "runner_data.keep_run = True"
   ]
  },
  {
   "cell_type": "code",
   "execution_count": null,
   "metadata": {},
   "outputs": [],
   "source": [
    "for ff in forms:\n",
    "    if fdb.count(label=ff) == 0:\n",
    "        atoms = read(f'data/{ff}.POSCAR', format='vasp')\n",
    "        # id_ = fdb.write(atoms, status='submit', runner='slurm:PPM', label=ff)\n",
    "        id_ = fdb.write(atoms, status='submit', runner='terminal:PPM', label=ff)\n",
    "        runner_data.to_db('database.db', id_)"
   ]
  },
  {
   "cell_type": "markdown",
   "metadata": {},
   "source": [
    "# Data retrieval"
   ]
  },
  {
   "cell_type": "code",
   "execution_count": null,
   "metadata": {},
   "outputs": [],
   "source": [
    "with db.connect(\"database.db\") as fdb:\n",
    "    for i in range(1, len(fdb) + 1):\n",
    "        row = fdb.get(i)\n",
    "        if row.status == \"done\":\n",
    "            # save data\n",
    "            np.save(f\"Images/{row.label}.npy\", row.data[\"box\"])\n",
    "            # save system\n",
    "            write(f\"Images/{row.label}.vasp\", row.toatoms(), vasp5=True, sort=True)"
   ]
  },
  {
   "cell_type": "code",
   "execution_count": null,
   "metadata": {},
   "outputs": [],
   "source": []
  }
 ],
 "metadata": {
  "kernelspec": {
   "display_name": "Python 3 (ipykernel)",
   "language": "python",
   "name": "python3"
  },
  "language_info": {
   "codemirror_mode": {
    "name": "ipython",
    "version": 3
   },
   "file_extension": ".py",
   "mimetype": "text/x-python",
   "name": "python",
   "nbconvert_exporter": "python",
   "pygments_lexer": "ipython3",
   "version": "3.10.12"
  }
 },
 "nbformat": 4,
 "nbformat_minor": 4
}
